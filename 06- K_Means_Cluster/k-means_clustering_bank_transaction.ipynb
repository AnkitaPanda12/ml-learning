{
 "cells": [
  {
   "cell_type": "code",
   "execution_count": 2,
   "metadata": {},
   "outputs": [],
   "source": [
    "import numpy as np\n",
    "import pandas as pd\n",
    "import matplotlib.pyplot as plt\n",
    "from sklearn.cluster import KMeans\n",
    "from sklearn.metrics import silhouette_score\n",
    "from sklearn.preprocessing import StandardScaler\n",
    "import warnings\n",
    "warnings.filterwarnings(\"ignore\")"
   ]
  },
  {
   "cell_type": "code",
   "execution_count": 3,
   "metadata": {},
   "outputs": [
    {
     "data": {
      "text/html": [
       "<div>\n",
       "<style scoped>\n",
       "    .dataframe tbody tr th:only-of-type {\n",
       "        vertical-align: middle;\n",
       "    }\n",
       "\n",
       "    .dataframe tbody tr th {\n",
       "        vertical-align: top;\n",
       "    }\n",
       "\n",
       "    .dataframe thead th {\n",
       "        text-align: right;\n",
       "    }\n",
       "</style>\n",
       "<table border=\"1\" class=\"dataframe\">\n",
       "  <thead>\n",
       "    <tr style=\"text-align: right;\">\n",
       "      <th></th>\n",
       "      <th>TransactionID</th>\n",
       "      <th>CustomerID</th>\n",
       "      <th>CustomerDOB</th>\n",
       "      <th>CustGender</th>\n",
       "      <th>CustLocation</th>\n",
       "      <th>CustAccountBalance</th>\n",
       "      <th>TransactionDate</th>\n",
       "      <th>TransactionTime</th>\n",
       "      <th>TransactionAmount (INR)</th>\n",
       "    </tr>\n",
       "  </thead>\n",
       "  <tbody>\n",
       "    <tr>\n",
       "      <th>0</th>\n",
       "      <td>T1</td>\n",
       "      <td>C5841053</td>\n",
       "      <td>10-01-1994</td>\n",
       "      <td>F</td>\n",
       "      <td>JAMSHEDPUR</td>\n",
       "      <td>17819.05</td>\n",
       "      <td>02-08-2016</td>\n",
       "      <td>143207</td>\n",
       "      <td>25.0</td>\n",
       "    </tr>\n",
       "    <tr>\n",
       "      <th>1</th>\n",
       "      <td>T2</td>\n",
       "      <td>C2142763</td>\n",
       "      <td>04-04-1957</td>\n",
       "      <td>M</td>\n",
       "      <td>JHAJJAR</td>\n",
       "      <td>2270.69</td>\n",
       "      <td>02-08-2016</td>\n",
       "      <td>141858</td>\n",
       "      <td>27999.0</td>\n",
       "    </tr>\n",
       "    <tr>\n",
       "      <th>2</th>\n",
       "      <td>T3</td>\n",
       "      <td>C4417068</td>\n",
       "      <td>26-11-1996</td>\n",
       "      <td>F</td>\n",
       "      <td>MUMBAI</td>\n",
       "      <td>17874.44</td>\n",
       "      <td>02-08-2016</td>\n",
       "      <td>142712</td>\n",
       "      <td>459.0</td>\n",
       "    </tr>\n",
       "    <tr>\n",
       "      <th>3</th>\n",
       "      <td>T4</td>\n",
       "      <td>C5342380</td>\n",
       "      <td>14-09-1973</td>\n",
       "      <td>F</td>\n",
       "      <td>MUMBAI</td>\n",
       "      <td>866503.21</td>\n",
       "      <td>02-08-2016</td>\n",
       "      <td>142714</td>\n",
       "      <td>2060.0</td>\n",
       "    </tr>\n",
       "    <tr>\n",
       "      <th>4</th>\n",
       "      <td>T5</td>\n",
       "      <td>C9031234</td>\n",
       "      <td>24-03-1988</td>\n",
       "      <td>F</td>\n",
       "      <td>NAVI MUMBAI</td>\n",
       "      <td>6714.43</td>\n",
       "      <td>02-08-2016</td>\n",
       "      <td>181156</td>\n",
       "      <td>1762.5</td>\n",
       "    </tr>\n",
       "  </tbody>\n",
       "</table>\n",
       "</div>"
      ],
      "text/plain": [
       "  TransactionID CustomerID CustomerDOB CustGender CustLocation  \\\n",
       "0            T1   C5841053  10-01-1994          F   JAMSHEDPUR   \n",
       "1            T2   C2142763  04-04-1957          M      JHAJJAR   \n",
       "2            T3   C4417068  26-11-1996          F       MUMBAI   \n",
       "3            T4   C5342380  14-09-1973          F       MUMBAI   \n",
       "4            T5   C9031234  24-03-1988          F  NAVI MUMBAI   \n",
       "\n",
       "   CustAccountBalance TransactionDate  TransactionTime  \\\n",
       "0            17819.05      02-08-2016           143207   \n",
       "1             2270.69      02-08-2016           141858   \n",
       "2            17874.44      02-08-2016           142712   \n",
       "3           866503.21      02-08-2016           142714   \n",
       "4             6714.43      02-08-2016           181156   \n",
       "\n",
       "   TransactionAmount (INR)  \n",
       "0                     25.0  \n",
       "1                  27999.0  \n",
       "2                    459.0  \n",
       "3                   2060.0  \n",
       "4                   1762.5  "
      ]
     },
     "execution_count": 3,
     "metadata": {},
     "output_type": "execute_result"
    }
   ],
   "source": [
    "data = pd.read_csv('bank_transactions.csv')\n",
    "\n",
    "data.head()"
   ]
  },
  {
   "cell_type": "code",
   "execution_count": 4,
   "metadata": {},
   "outputs": [
    {
     "name": "stdout",
     "output_type": "stream",
     "text": [
      "<class 'pandas.core.frame.DataFrame'>\n",
      "RangeIndex: 20000 entries, 0 to 19999\n",
      "Data columns (total 9 columns):\n",
      " #   Column                   Non-Null Count  Dtype  \n",
      "---  ------                   --------------  -----  \n",
      " 0   TransactionID            20000 non-null  object \n",
      " 1   CustomerID               20000 non-null  object \n",
      " 2   CustomerDOB              19928 non-null  object \n",
      " 3   CustGender               19989 non-null  object \n",
      " 4   CustLocation             19999 non-null  object \n",
      " 5   CustAccountBalance       19973 non-null  float64\n",
      " 6   TransactionDate          20000 non-null  object \n",
      " 7   TransactionTime          20000 non-null  int64  \n",
      " 8   TransactionAmount (INR)  20000 non-null  float64\n",
      "dtypes: float64(2), int64(1), object(6)\n",
      "memory usage: 1.4+ MB\n"
     ]
    }
   ],
   "source": [
    "data.info()"
   ]
  },
  {
   "cell_type": "markdown",
   "metadata": {},
   "source": [
    "## Step 3: Data Preprocessing"
   ]
  },
  {
   "cell_type": "code",
   "execution_count": 5,
   "metadata": {},
   "outputs": [],
   "source": [
    "data['TransactionDate'] = pd.to_datetime(data['TransactionDate'], format='%d-%m-%Y')"
   ]
  },
  {
   "cell_type": "code",
   "execution_count": 6,
   "metadata": {},
   "outputs": [
    {
     "data": {
      "text/html": [
       "<div>\n",
       "<style scoped>\n",
       "    .dataframe tbody tr th:only-of-type {\n",
       "        vertical-align: middle;\n",
       "    }\n",
       "\n",
       "    .dataframe tbody tr th {\n",
       "        vertical-align: top;\n",
       "    }\n",
       "\n",
       "    .dataframe thead th {\n",
       "        text-align: right;\n",
       "    }\n",
       "</style>\n",
       "<table border=\"1\" class=\"dataframe\">\n",
       "  <thead>\n",
       "    <tr style=\"text-align: right;\">\n",
       "      <th></th>\n",
       "      <th>TransactionID</th>\n",
       "      <th>CustomerID</th>\n",
       "      <th>CustomerDOB</th>\n",
       "      <th>CustGender</th>\n",
       "      <th>CustLocation</th>\n",
       "      <th>CustAccountBalance</th>\n",
       "      <th>TransactionDate</th>\n",
       "      <th>TransactionTime</th>\n",
       "      <th>TransactionAmount (INR)</th>\n",
       "    </tr>\n",
       "  </thead>\n",
       "  <tbody>\n",
       "    <tr>\n",
       "      <th>0</th>\n",
       "      <td>T1</td>\n",
       "      <td>C5841053</td>\n",
       "      <td>10-01-1994</td>\n",
       "      <td>F</td>\n",
       "      <td>JAMSHEDPUR</td>\n",
       "      <td>17819.05</td>\n",
       "      <td>2016-08-02</td>\n",
       "      <td>143207</td>\n",
       "      <td>25.0</td>\n",
       "    </tr>\n",
       "    <tr>\n",
       "      <th>1</th>\n",
       "      <td>T2</td>\n",
       "      <td>C2142763</td>\n",
       "      <td>04-04-1957</td>\n",
       "      <td>M</td>\n",
       "      <td>JHAJJAR</td>\n",
       "      <td>2270.69</td>\n",
       "      <td>2016-08-02</td>\n",
       "      <td>141858</td>\n",
       "      <td>27999.0</td>\n",
       "    </tr>\n",
       "    <tr>\n",
       "      <th>2</th>\n",
       "      <td>T3</td>\n",
       "      <td>C4417068</td>\n",
       "      <td>26-11-1996</td>\n",
       "      <td>F</td>\n",
       "      <td>MUMBAI</td>\n",
       "      <td>17874.44</td>\n",
       "      <td>2016-08-02</td>\n",
       "      <td>142712</td>\n",
       "      <td>459.0</td>\n",
       "    </tr>\n",
       "    <tr>\n",
       "      <th>3</th>\n",
       "      <td>T4</td>\n",
       "      <td>C5342380</td>\n",
       "      <td>14-09-1973</td>\n",
       "      <td>F</td>\n",
       "      <td>MUMBAI</td>\n",
       "      <td>866503.21</td>\n",
       "      <td>2016-08-02</td>\n",
       "      <td>142714</td>\n",
       "      <td>2060.0</td>\n",
       "    </tr>\n",
       "    <tr>\n",
       "      <th>4</th>\n",
       "      <td>T5</td>\n",
       "      <td>C9031234</td>\n",
       "      <td>24-03-1988</td>\n",
       "      <td>F</td>\n",
       "      <td>NAVI MUMBAI</td>\n",
       "      <td>6714.43</td>\n",
       "      <td>2016-08-02</td>\n",
       "      <td>181156</td>\n",
       "      <td>1762.5</td>\n",
       "    </tr>\n",
       "  </tbody>\n",
       "</table>\n",
       "</div>"
      ],
      "text/plain": [
       "  TransactionID CustomerID CustomerDOB CustGender CustLocation  \\\n",
       "0            T1   C5841053  10-01-1994          F   JAMSHEDPUR   \n",
       "1            T2   C2142763  04-04-1957          M      JHAJJAR   \n",
       "2            T3   C4417068  26-11-1996          F       MUMBAI   \n",
       "3            T4   C5342380  14-09-1973          F       MUMBAI   \n",
       "4            T5   C9031234  24-03-1988          F  NAVI MUMBAI   \n",
       "\n",
       "   CustAccountBalance TransactionDate  TransactionTime  \\\n",
       "0            17819.05      2016-08-02           143207   \n",
       "1             2270.69      2016-08-02           141858   \n",
       "2            17874.44      2016-08-02           142712   \n",
       "3           866503.21      2016-08-02           142714   \n",
       "4             6714.43      2016-08-02           181156   \n",
       "\n",
       "   TransactionAmount (INR)  \n",
       "0                     25.0  \n",
       "1                  27999.0  \n",
       "2                    459.0  \n",
       "3                   2060.0  \n",
       "4                   1762.5  "
      ]
     },
     "execution_count": 6,
     "metadata": {},
     "output_type": "execute_result"
    }
   ],
   "source": [
    "data.head()"
   ]
  },
  {
   "cell_type": "code",
   "execution_count": 8,
   "metadata": {},
   "outputs": [],
   "source": [
    "#data.isnull().sum()\n",
    "\n",
    "#Drop rows with missing values\n",
    "data.dropna(inplace=True)"
   ]
  },
  {
   "cell_type": "code",
   "execution_count": 11,
   "metadata": {},
   "outputs": [],
   "source": [
    "#select numeric features for clustering\n",
    "numeric_features = data[['CustAccountBalance', 'TransactionAmount (INR)']]"
   ]
  },
  {
   "cell_type": "code",
   "execution_count": 12,
   "metadata": {},
   "outputs": [],
   "source": [
    "#standarize the data\n",
    "scaler = StandardScaler()\n",
    "scaled_features = scaler.fit_transform(numeric_features)"
   ]
  },
  {
   "cell_type": "markdown",
   "metadata": {},
   "source": [
    "## Step 4: Exploratory Data Analysis (EDA)"
   ]
  },
  {
   "cell_type": "code",
   "execution_count": 24,
   "metadata": {},
   "outputs": [],
   "source": [
    "##time\n",
    "#plot a pairplot to visualize relationships between numeric features\n",
    "sns.pairplot(data[['CustAccountBalance', 'TransactionAmount (INR)']])\n",
    "plt.title(\"Pairplot of Numeric Features\")\n",
    "plt.show()"
   ]
  },
  {
   "cell_type": "markdown",
   "metadata": {},
   "source": [
    "## Step 5: Finding the Optimal Number of Clusters(K)"
   ]
  },
  {
   "cell_type": "code",
   "execution_count": 15,
   "metadata": {},
   "outputs": [
    {
     "data": {
      "image/png": "[encoded data removed]",
      "text/plain": [
       "<Figure size 1000x600 with 1 Axes>"
      ]
     },
     "metadata": {},
     "output_type": "display_data"
    }
   ],
   "source": [
    "# using the elbow method to find the optimal number of clusters(K)\n",
    "wcss = []\n",
    "for i in range(1,11):\n",
    "    kmeans = KMeans(n_clusters=i, init='k-means++', random_state=42)\n",
    "    kmeans.fit(scaled_features)\n",
    "    wcss.append(kmeans.inertia_)\n",
    "\n",
    "# plot the elbow method graph\n",
    "plt.figure(figsize=(10,6))\n",
    "plt.plot(range(1,11), wcss, marker='o', linestyle= '--')\n",
    "plt.xlabel(\"Number of Clusters (K)\")\n",
    "plt.ylabel(\"WCSS\")\n",
    "plt.title(\"Elbow Method to find Optimal K\")\n",
    "plt.show()"
   ]
  },
  {
   "cell_type": "code",
   "execution_count": 16,
   "metadata": {},
   "outputs": [],
   "source": [
    "# Perform K-means Clustering \n",
    "kmeans = KMeans(n_clusters=3, random_state=42)\n",
    "data['Cluster'] = kmeans.fit_predict(scaled_features)"
   ]
  },
  {
   "cell_type": "code",
   "execution_count": 20,
   "metadata": {},
   "outputs": [
    {
     "data": {
      "text/plain": [
       "Cluster\n",
       "0    19724\n",
       "1      148\n",
       "2       17\n",
       "Name: count, dtype: int64"
      ]
     },
     "execution_count": 20,
     "metadata": {},
     "output_type": "execute_result"
    }
   ],
   "source": [
    "data['Cluster'].value_counts()"
   ]
  },
  {
   "cell_type": "code",
   "execution_count": 22,
   "metadata": {},
   "outputs": [],
   "source": [
    "#data"
   ]
  },
  {
   "cell_type": "code",
   "execution_count": 23,
   "metadata": {},
   "outputs": [],
   "source": [
    "# Based on the elbow method, choose optional number of clusters(K)\n",
    "\n",
    "# visulize and interpret the clusters\n",
    "plt.figure(figsize= (10, 6))\n",
    "plt.scatter(data['CustAccountBalance'], data['TransactionAmount (INR)'], c=data['Cluster'], cmap='virdis')\n",
    "plt.title(\"K-Means Clustering\")\n",
    "plt.xlabel(\"CustAccountBalance\")\n",
    "plt.ylabel('TransactionAmount (INR)')\n",
    "plt.show()"
   ]
  },
  {
   "cell_type": "code",
   "execution_count": null,
   "metadata": {},
   "outputs": [],
   "source": []
  }
 ],
 "metadata": {
  "kernelspec": {
   "display_name": "Python 3",
   "language": "python",
   "name": "python3"
  },
  "language_info": {
   "codemirror_mode": {
    "name": "ipython",
    "version": 3
   },
   "file_extension": ".py",
   "mimetype": "text/x-python",
   "name": "python",
   "nbconvert_exporter": "python",
   "pygments_lexer": "ipython3",
   "version": "3.12.2"
  }
 },
 "nbformat": 4,
 "nbformat_minor": 2
}
